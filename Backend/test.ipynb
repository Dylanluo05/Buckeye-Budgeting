{
 "cells": [
  {
   "cell_type": "code",
   "execution_count": 126,
   "metadata": {},
   "outputs": [],
   "source": [
    "import pandas as pd\n",
    "import enum\n",
    "from datetime import datetime, timedelta\n",
    "from flask import jsonify"
   ]
  },
  {
   "cell_type": "code",
   "execution_count": 62,
   "metadata": {},
   "outputs": [
    {
     "name": "stdout",
     "output_type": "stream",
     "text": [
      "2023-09-30 16:09:01.736637\n"
     ]
    }
   ],
   "source": [
    "print(datetime.now().replace(day=1) - timedelta(days=1))"
   ]
  },
  {
   "cell_type": "code",
   "execution_count": 63,
   "metadata": {},
   "outputs": [],
   "source": [
    "dataDir = r'/Users/cvo/Desktop/Buckeye-Budgeting/Backend/Data'"
   ]
  },
  {
   "cell_type": "code",
   "execution_count": 121,
   "metadata": {},
   "outputs": [],
   "source": [
    "df = pd.DataFrame({\n",
    "    'UserName': ['o', 'o', 'o', 'i','e'],\n",
    "    'UserID': [1, 2, 3, 1, 1],\n",
    "})"
   ]
  },
  {
   "cell_type": "code",
   "execution_count": 124,
   "metadata": {},
   "outputs": [
    {
     "name": "stdout",
     "output_type": "stream",
     "text": [
      "o\n",
      "o\n",
      "o\n",
      "i\n",
      "e\n"
     ]
    }
   ],
   "source": [
    "for index, row in df.iterrows():\n",
    "    print(row['UserName'])\n",
    "    df.drop(index, inplace=True)"
   ]
  },
  {
   "cell_type": "code",
   "execution_count": 125,
   "metadata": {},
   "outputs": [
    {
     "data": {
      "text/html": [
       "<div>\n",
       "<style scoped>\n",
       "    .dataframe tbody tr th:only-of-type {\n",
       "        vertical-align: middle;\n",
       "    }\n",
       "\n",
       "    .dataframe tbody tr th {\n",
       "        vertical-align: top;\n",
       "    }\n",
       "\n",
       "    .dataframe thead th {\n",
       "        text-align: right;\n",
       "    }\n",
       "</style>\n",
       "<table border=\"1\" class=\"dataframe\">\n",
       "  <thead>\n",
       "    <tr style=\"text-align: right;\">\n",
       "      <th></th>\n",
       "      <th>UserName</th>\n",
       "      <th>UserID</th>\n",
       "    </tr>\n",
       "  </thead>\n",
       "  <tbody>\n",
       "  </tbody>\n",
       "</table>\n",
       "</div>"
      ],
      "text/plain": [
       "Empty DataFrame\n",
       "Columns: [UserName, UserID]\n",
       "Index: []"
      ]
     },
     "execution_count": 125,
     "metadata": {},
     "output_type": "execute_result"
    }
   ],
   "source": [
    "df"
   ]
  },
  {
   "cell_type": "code",
   "execution_count": 127,
   "metadata": {},
   "outputs": [],
   "source": [
    "d = {\n",
    "    \"user\": \"cvo\",\n",
    "    \"assets\": 1992.12,\n",
    "    \"monthly_budget\": 200,\n",
    "    \"year\": 2023,\n",
    "    \"month\": 10,\n",
    "    \"envelopes\": [\n",
    "        {\n",
    "            \"id\": 1,\n",
    "            \"name\": \"Shopping\",\n",
    "            \"amount\": 50.0\n",
    "        }\n",
    "    ],\n",
    "    \"transactions\": [\n",
    "        {\n",
    "            \"id\": 1,\n",
    "            \"envelope_id\": 1,\n",
    "            \"datetime\": \"2023-09-28 09:28:00\",\n",
    "            \"name\": \"Walmart\",\n",
    "            \"amount\": 10.95\n",
    "        },\n",
    "        {\n",
    "            \"id\": 2,\n",
    "            \"envelope_id\": 1,\n",
    "            \"datetime\": \"2023-10-07 10:55:00\",\n",
    "            \"name\": \"IKEA\",\n",
    "            \"amount\": 69.69\n",
    "        },\n",
    "        {\n",
    "            \"id\": 3,\n",
    "            \"envelope_id\": 1,\n",
    "            \"datetime\": \"2023-10-28 12:31:00\",\n",
    "            \"name\": \"Target\",\n",
    "            \"amount\": 1.11\n",
    "        }\n",
    "    ],\n",
    "    \"income\": [\n",
    "        {\n",
    "            \"id\": 2,\n",
    "            \"datetime\": \"2023-10-07 10:55:00\",\n",
    "            \"amount\": 69.69\n",
    "        },\n",
    "        {\n",
    "            \"id\": 3,\n",
    "            \"datetime\": \"2023-10-28 12:31:00\",\n",
    "            \"amount\": 1001.11\n",
    "        }\n",
    "    ]\n",
    "}"
   ]
  },
  {
   "cell_type": "code",
   "execution_count": 129,
   "metadata": {},
   "outputs": [],
   "source": [
    "import json"
   ]
  },
  {
   "cell_type": "code",
   "execution_count": 130,
   "metadata": {},
   "outputs": [
    {
     "ename": "RuntimeError",
     "evalue": "Working outside of application context.\n\nThis typically means that you attempted to use functionality that needed\nthe current application. To solve this, set up an application context\nwith app.app_context(). See the documentation for more information.",
     "output_type": "error",
     "traceback": [
      "\u001b[0;31m---------------------------------------------------------------------------\u001b[0m",
      "\u001b[0;31mRuntimeError\u001b[0m                              Traceback (most recent call last)",
      "\u001b[1;32m/Users/cvo/Desktop/Buckeye-Budgeting/Backend/test.ipynb Cell 9\u001b[0m line \u001b[0;36m1\n\u001b[0;32m----> <a href='vscode-notebook-cell:/Users/cvo/Desktop/Buckeye-Budgeting/Backend/test.ipynb#X22sZmlsZQ%3D%3D?line=0'>1</a>\u001b[0m jsonify({\n\u001b[1;32m      <a href='vscode-notebook-cell:/Users/cvo/Desktop/Buckeye-Budgeting/Backend/test.ipynb#X22sZmlsZQ%3D%3D?line=1'>2</a>\u001b[0m     \u001b[39m\"\u001b[39;49m\u001b[39muser\u001b[39;49m\u001b[39m\"\u001b[39;49m: \u001b[39m\"\u001b[39;49m\u001b[39mcvo\u001b[39;49m\u001b[39m\"\u001b[39;49m,\n\u001b[1;32m      <a href='vscode-notebook-cell:/Users/cvo/Desktop/Buckeye-Budgeting/Backend/test.ipynb#X22sZmlsZQ%3D%3D?line=2'>3</a>\u001b[0m     \u001b[39m\"\u001b[39;49m\u001b[39massets\u001b[39;49m\u001b[39m\"\u001b[39;49m: \u001b[39m1992.12\u001b[39;49m,\n\u001b[1;32m      <a href='vscode-notebook-cell:/Users/cvo/Desktop/Buckeye-Budgeting/Backend/test.ipynb#X22sZmlsZQ%3D%3D?line=3'>4</a>\u001b[0m     \u001b[39m\"\u001b[39;49m\u001b[39mmonthly_budget\u001b[39;49m\u001b[39m\"\u001b[39;49m: \u001b[39m200\u001b[39;49m,\n\u001b[1;32m      <a href='vscode-notebook-cell:/Users/cvo/Desktop/Buckeye-Budgeting/Backend/test.ipynb#X22sZmlsZQ%3D%3D?line=4'>5</a>\u001b[0m     \u001b[39m\"\u001b[39;49m\u001b[39myear\u001b[39;49m\u001b[39m\"\u001b[39;49m: \u001b[39m2023\u001b[39;49m,\n\u001b[1;32m      <a href='vscode-notebook-cell:/Users/cvo/Desktop/Buckeye-Budgeting/Backend/test.ipynb#X22sZmlsZQ%3D%3D?line=5'>6</a>\u001b[0m     \u001b[39m\"\u001b[39;49m\u001b[39mmonth\u001b[39;49m\u001b[39m\"\u001b[39;49m: \u001b[39m10\u001b[39;49m,\n\u001b[1;32m      <a href='vscode-notebook-cell:/Users/cvo/Desktop/Buckeye-Budgeting/Backend/test.ipynb#X22sZmlsZQ%3D%3D?line=6'>7</a>\u001b[0m     \u001b[39m\"\u001b[39;49m\u001b[39menvelopes\u001b[39;49m\u001b[39m\"\u001b[39;49m: [\n\u001b[1;32m      <a href='vscode-notebook-cell:/Users/cvo/Desktop/Buckeye-Budgeting/Backend/test.ipynb#X22sZmlsZQ%3D%3D?line=7'>8</a>\u001b[0m         {\n\u001b[1;32m      <a href='vscode-notebook-cell:/Users/cvo/Desktop/Buckeye-Budgeting/Backend/test.ipynb#X22sZmlsZQ%3D%3D?line=8'>9</a>\u001b[0m             \u001b[39m\"\u001b[39;49m\u001b[39mid\u001b[39;49m\u001b[39m\"\u001b[39;49m: \u001b[39m1\u001b[39;49m,\n\u001b[1;32m     <a href='vscode-notebook-cell:/Users/cvo/Desktop/Buckeye-Budgeting/Backend/test.ipynb#X22sZmlsZQ%3D%3D?line=9'>10</a>\u001b[0m             \u001b[39m\"\u001b[39;49m\u001b[39mname\u001b[39;49m\u001b[39m\"\u001b[39;49m: \u001b[39m\"\u001b[39;49m\u001b[39mShopping\u001b[39;49m\u001b[39m\"\u001b[39;49m,\n\u001b[1;32m     <a href='vscode-notebook-cell:/Users/cvo/Desktop/Buckeye-Budgeting/Backend/test.ipynb#X22sZmlsZQ%3D%3D?line=10'>11</a>\u001b[0m             \u001b[39m\"\u001b[39;49m\u001b[39mamount\u001b[39;49m\u001b[39m\"\u001b[39;49m: \u001b[39m50.0\u001b[39;49m\n\u001b[1;32m     <a href='vscode-notebook-cell:/Users/cvo/Desktop/Buckeye-Budgeting/Backend/test.ipynb#X22sZmlsZQ%3D%3D?line=11'>12</a>\u001b[0m         }\n\u001b[1;32m     <a href='vscode-notebook-cell:/Users/cvo/Desktop/Buckeye-Budgeting/Backend/test.ipynb#X22sZmlsZQ%3D%3D?line=12'>13</a>\u001b[0m     ],\n\u001b[1;32m     <a href='vscode-notebook-cell:/Users/cvo/Desktop/Buckeye-Budgeting/Backend/test.ipynb#X22sZmlsZQ%3D%3D?line=13'>14</a>\u001b[0m     \u001b[39m\"\u001b[39;49m\u001b[39mtransactions\u001b[39;49m\u001b[39m\"\u001b[39;49m: [\n\u001b[1;32m     <a href='vscode-notebook-cell:/Users/cvo/Desktop/Buckeye-Budgeting/Backend/test.ipynb#X22sZmlsZQ%3D%3D?line=14'>15</a>\u001b[0m         {\n\u001b[1;32m     <a href='vscode-notebook-cell:/Users/cvo/Desktop/Buckeye-Budgeting/Backend/test.ipynb#X22sZmlsZQ%3D%3D?line=15'>16</a>\u001b[0m             \u001b[39m\"\u001b[39;49m\u001b[39mid\u001b[39;49m\u001b[39m\"\u001b[39;49m: \u001b[39m1\u001b[39;49m,\n\u001b[1;32m     <a href='vscode-notebook-cell:/Users/cvo/Desktop/Buckeye-Budgeting/Backend/test.ipynb#X22sZmlsZQ%3D%3D?line=16'>17</a>\u001b[0m             \u001b[39m\"\u001b[39;49m\u001b[39menvelope_id\u001b[39;49m\u001b[39m\"\u001b[39;49m: \u001b[39m1\u001b[39;49m,\n\u001b[1;32m     <a href='vscode-notebook-cell:/Users/cvo/Desktop/Buckeye-Budgeting/Backend/test.ipynb#X22sZmlsZQ%3D%3D?line=17'>18</a>\u001b[0m             \u001b[39m\"\u001b[39;49m\u001b[39mdatetime\u001b[39;49m\u001b[39m\"\u001b[39;49m: \u001b[39m\"\u001b[39;49m\u001b[39m2023-09-28 09:28:00\u001b[39;49m\u001b[39m\"\u001b[39;49m,\n\u001b[1;32m     <a href='vscode-notebook-cell:/Users/cvo/Desktop/Buckeye-Budgeting/Backend/test.ipynb#X22sZmlsZQ%3D%3D?line=18'>19</a>\u001b[0m             \u001b[39m\"\u001b[39;49m\u001b[39mname\u001b[39;49m\u001b[39m\"\u001b[39;49m: \u001b[39m\"\u001b[39;49m\u001b[39mWalmart\u001b[39;49m\u001b[39m\"\u001b[39;49m,\n\u001b[1;32m     <a href='vscode-notebook-cell:/Users/cvo/Desktop/Buckeye-Budgeting/Backend/test.ipynb#X22sZmlsZQ%3D%3D?line=19'>20</a>\u001b[0m             \u001b[39m\"\u001b[39;49m\u001b[39mamount\u001b[39;49m\u001b[39m\"\u001b[39;49m: \u001b[39m10.95\u001b[39;49m\n\u001b[1;32m     <a href='vscode-notebook-cell:/Users/cvo/Desktop/Buckeye-Budgeting/Backend/test.ipynb#X22sZmlsZQ%3D%3D?line=20'>21</a>\u001b[0m         },\n\u001b[1;32m     <a href='vscode-notebook-cell:/Users/cvo/Desktop/Buckeye-Budgeting/Backend/test.ipynb#X22sZmlsZQ%3D%3D?line=21'>22</a>\u001b[0m         {\n\u001b[1;32m     <a href='vscode-notebook-cell:/Users/cvo/Desktop/Buckeye-Budgeting/Backend/test.ipynb#X22sZmlsZQ%3D%3D?line=22'>23</a>\u001b[0m             \u001b[39m\"\u001b[39;49m\u001b[39mid\u001b[39;49m\u001b[39m\"\u001b[39;49m: \u001b[39m2\u001b[39;49m,\n\u001b[1;32m     <a href='vscode-notebook-cell:/Users/cvo/Desktop/Buckeye-Budgeting/Backend/test.ipynb#X22sZmlsZQ%3D%3D?line=23'>24</a>\u001b[0m             \u001b[39m\"\u001b[39;49m\u001b[39menvelope_id\u001b[39;49m\u001b[39m\"\u001b[39;49m: \u001b[39m1\u001b[39;49m,\n\u001b[1;32m     <a href='vscode-notebook-cell:/Users/cvo/Desktop/Buckeye-Budgeting/Backend/test.ipynb#X22sZmlsZQ%3D%3D?line=24'>25</a>\u001b[0m             \u001b[39m\"\u001b[39;49m\u001b[39mdatetime\u001b[39;49m\u001b[39m\"\u001b[39;49m: \u001b[39m\"\u001b[39;49m\u001b[39m2023-10-07 10:55:00\u001b[39;49m\u001b[39m\"\u001b[39;49m,\n\u001b[1;32m     <a href='vscode-notebook-cell:/Users/cvo/Desktop/Buckeye-Budgeting/Backend/test.ipynb#X22sZmlsZQ%3D%3D?line=25'>26</a>\u001b[0m             \u001b[39m\"\u001b[39;49m\u001b[39mname\u001b[39;49m\u001b[39m\"\u001b[39;49m: \u001b[39m\"\u001b[39;49m\u001b[39mIKEA\u001b[39;49m\u001b[39m\"\u001b[39;49m,\n\u001b[1;32m     <a href='vscode-notebook-cell:/Users/cvo/Desktop/Buckeye-Budgeting/Backend/test.ipynb#X22sZmlsZQ%3D%3D?line=26'>27</a>\u001b[0m             \u001b[39m\"\u001b[39;49m\u001b[39mamount\u001b[39;49m\u001b[39m\"\u001b[39;49m: \u001b[39m69.69\u001b[39;49m\n\u001b[1;32m     <a href='vscode-notebook-cell:/Users/cvo/Desktop/Buckeye-Budgeting/Backend/test.ipynb#X22sZmlsZQ%3D%3D?line=27'>28</a>\u001b[0m         },\n\u001b[1;32m     <a href='vscode-notebook-cell:/Users/cvo/Desktop/Buckeye-Budgeting/Backend/test.ipynb#X22sZmlsZQ%3D%3D?line=28'>29</a>\u001b[0m         {\n\u001b[1;32m     <a href='vscode-notebook-cell:/Users/cvo/Desktop/Buckeye-Budgeting/Backend/test.ipynb#X22sZmlsZQ%3D%3D?line=29'>30</a>\u001b[0m             \u001b[39m\"\u001b[39;49m\u001b[39mid\u001b[39;49m\u001b[39m\"\u001b[39;49m: \u001b[39m3\u001b[39;49m,\n\u001b[1;32m     <a href='vscode-notebook-cell:/Users/cvo/Desktop/Buckeye-Budgeting/Backend/test.ipynb#X22sZmlsZQ%3D%3D?line=30'>31</a>\u001b[0m             \u001b[39m\"\u001b[39;49m\u001b[39menvelope_id\u001b[39;49m\u001b[39m\"\u001b[39;49m: \u001b[39m1\u001b[39;49m,\n\u001b[1;32m     <a href='vscode-notebook-cell:/Users/cvo/Desktop/Buckeye-Budgeting/Backend/test.ipynb#X22sZmlsZQ%3D%3D?line=31'>32</a>\u001b[0m             \u001b[39m\"\u001b[39;49m\u001b[39mdatetime\u001b[39;49m\u001b[39m\"\u001b[39;49m: \u001b[39m\"\u001b[39;49m\u001b[39m2023-10-28 12:31:00\u001b[39;49m\u001b[39m\"\u001b[39;49m,\n\u001b[1;32m     <a href='vscode-notebook-cell:/Users/cvo/Desktop/Buckeye-Budgeting/Backend/test.ipynb#X22sZmlsZQ%3D%3D?line=32'>33</a>\u001b[0m             \u001b[39m\"\u001b[39;49m\u001b[39mname\u001b[39;49m\u001b[39m\"\u001b[39;49m: \u001b[39m\"\u001b[39;49m\u001b[39mTarget\u001b[39;49m\u001b[39m\"\u001b[39;49m,\n\u001b[1;32m     <a href='vscode-notebook-cell:/Users/cvo/Desktop/Buckeye-Budgeting/Backend/test.ipynb#X22sZmlsZQ%3D%3D?line=33'>34</a>\u001b[0m             \u001b[39m\"\u001b[39;49m\u001b[39mamount\u001b[39;49m\u001b[39m\"\u001b[39;49m: \u001b[39m1.11\u001b[39;49m\n\u001b[1;32m     <a href='vscode-notebook-cell:/Users/cvo/Desktop/Buckeye-Budgeting/Backend/test.ipynb#X22sZmlsZQ%3D%3D?line=34'>35</a>\u001b[0m         }\n\u001b[1;32m     <a href='vscode-notebook-cell:/Users/cvo/Desktop/Buckeye-Budgeting/Backend/test.ipynb#X22sZmlsZQ%3D%3D?line=35'>36</a>\u001b[0m     ],\n\u001b[1;32m     <a href='vscode-notebook-cell:/Users/cvo/Desktop/Buckeye-Budgeting/Backend/test.ipynb#X22sZmlsZQ%3D%3D?line=36'>37</a>\u001b[0m     \u001b[39m\"\u001b[39;49m\u001b[39mincome\u001b[39;49m\u001b[39m\"\u001b[39;49m: [\n\u001b[1;32m     <a href='vscode-notebook-cell:/Users/cvo/Desktop/Buckeye-Budgeting/Backend/test.ipynb#X22sZmlsZQ%3D%3D?line=37'>38</a>\u001b[0m         {\n\u001b[1;32m     <a href='vscode-notebook-cell:/Users/cvo/Desktop/Buckeye-Budgeting/Backend/test.ipynb#X22sZmlsZQ%3D%3D?line=38'>39</a>\u001b[0m             \u001b[39m\"\u001b[39;49m\u001b[39mid\u001b[39;49m\u001b[39m\"\u001b[39;49m: \u001b[39m2\u001b[39;49m,\n\u001b[1;32m     <a href='vscode-notebook-cell:/Users/cvo/Desktop/Buckeye-Budgeting/Backend/test.ipynb#X22sZmlsZQ%3D%3D?line=39'>40</a>\u001b[0m             \u001b[39m\"\u001b[39;49m\u001b[39mdatetime\u001b[39;49m\u001b[39m\"\u001b[39;49m: \u001b[39m\"\u001b[39;49m\u001b[39m2023-10-07 10:55:00\u001b[39;49m\u001b[39m\"\u001b[39;49m,\n\u001b[1;32m     <a href='vscode-notebook-cell:/Users/cvo/Desktop/Buckeye-Budgeting/Backend/test.ipynb#X22sZmlsZQ%3D%3D?line=40'>41</a>\u001b[0m             \u001b[39m\"\u001b[39;49m\u001b[39mamount\u001b[39;49m\u001b[39m\"\u001b[39;49m: \u001b[39m69.69\u001b[39;49m\n\u001b[1;32m     <a href='vscode-notebook-cell:/Users/cvo/Desktop/Buckeye-Budgeting/Backend/test.ipynb#X22sZmlsZQ%3D%3D?line=41'>42</a>\u001b[0m         },\n\u001b[1;32m     <a href='vscode-notebook-cell:/Users/cvo/Desktop/Buckeye-Budgeting/Backend/test.ipynb#X22sZmlsZQ%3D%3D?line=42'>43</a>\u001b[0m         {\n\u001b[1;32m     <a href='vscode-notebook-cell:/Users/cvo/Desktop/Buckeye-Budgeting/Backend/test.ipynb#X22sZmlsZQ%3D%3D?line=43'>44</a>\u001b[0m             \u001b[39m\"\u001b[39;49m\u001b[39mid\u001b[39;49m\u001b[39m\"\u001b[39;49m: \u001b[39m3\u001b[39;49m,\n\u001b[1;32m     <a href='vscode-notebook-cell:/Users/cvo/Desktop/Buckeye-Budgeting/Backend/test.ipynb#X22sZmlsZQ%3D%3D?line=44'>45</a>\u001b[0m             \u001b[39m\"\u001b[39;49m\u001b[39mdatetime\u001b[39;49m\u001b[39m\"\u001b[39;49m: \u001b[39m\"\u001b[39;49m\u001b[39m2023-10-28 12:31:00\u001b[39;49m\u001b[39m\"\u001b[39;49m,\n\u001b[1;32m     <a href='vscode-notebook-cell:/Users/cvo/Desktop/Buckeye-Budgeting/Backend/test.ipynb#X22sZmlsZQ%3D%3D?line=45'>46</a>\u001b[0m             \u001b[39m\"\u001b[39;49m\u001b[39mamount\u001b[39;49m\u001b[39m\"\u001b[39;49m: \u001b[39m1001.11\u001b[39;49m\n\u001b[1;32m     <a href='vscode-notebook-cell:/Users/cvo/Desktop/Buckeye-Budgeting/Backend/test.ipynb#X22sZmlsZQ%3D%3D?line=46'>47</a>\u001b[0m         }\n\u001b[1;32m     <a href='vscode-notebook-cell:/Users/cvo/Desktop/Buckeye-Budgeting/Backend/test.ipynb#X22sZmlsZQ%3D%3D?line=47'>48</a>\u001b[0m     ]\n\u001b[1;32m     <a href='vscode-notebook-cell:/Users/cvo/Desktop/Buckeye-Budgeting/Backend/test.ipynb#X22sZmlsZQ%3D%3D?line=48'>49</a>\u001b[0m })\n",
      "File \u001b[0;32m~/Desktop/Buckeye-Budgeting/python_venv/lib/python3.12/site-packages/flask/json/__init__.py:170\u001b[0m, in \u001b[0;36mjsonify\u001b[0;34m(*args, **kwargs)\u001b[0m\n\u001b[1;32m    138\u001b[0m \u001b[39mdef\u001b[39;00m \u001b[39mjsonify\u001b[39m(\u001b[39m*\u001b[39margs: t\u001b[39m.\u001b[39mAny, \u001b[39m*\u001b[39m\u001b[39m*\u001b[39mkwargs: t\u001b[39m.\u001b[39mAny) \u001b[39m-\u001b[39m\u001b[39m>\u001b[39m Response:\n\u001b[1;32m    139\u001b[0m \u001b[39m    \u001b[39m\u001b[39m\"\"\"Serialize the given arguments as JSON, and return a\u001b[39;00m\n\u001b[1;32m    140\u001b[0m \u001b[39m    :class:`~flask.Response` object with the ``application/json``\u001b[39;00m\n\u001b[1;32m    141\u001b[0m \u001b[39m    mimetype. A dict or list returned from a view will be converted to a\u001b[39;00m\n\u001b[0;32m   (...)\u001b[0m\n\u001b[1;32m    168\u001b[0m \u001b[39m    .. versionadded:: 0.2\u001b[39;00m\n\u001b[1;32m    169\u001b[0m \u001b[39m    \"\"\"\u001b[39;00m\n\u001b[0;32m--> 170\u001b[0m     \u001b[39mreturn\u001b[39;00m current_app\u001b[39m.\u001b[39;49mjson\u001b[39m.\u001b[39mresponse(\u001b[39m*\u001b[39margs, \u001b[39m*\u001b[39m\u001b[39m*\u001b[39mkwargs)\n",
      "File \u001b[0;32m~/Desktop/Buckeye-Budgeting/python_venv/lib/python3.12/site-packages/werkzeug/local.py:311\u001b[0m, in \u001b[0;36m_ProxyLookup.__get__\u001b[0;34m(self, instance, owner)\u001b[0m\n\u001b[1;32m    308\u001b[0m     \u001b[39mreturn\u001b[39;00m \u001b[39mself\u001b[39m\n\u001b[1;32m    310\u001b[0m \u001b[39mtry\u001b[39;00m:\n\u001b[0;32m--> 311\u001b[0m     obj \u001b[39m=\u001b[39m instance\u001b[39m.\u001b[39;49m_get_current_object()\n\u001b[1;32m    312\u001b[0m \u001b[39mexcept\u001b[39;00m \u001b[39mRuntimeError\u001b[39;00m:\n\u001b[1;32m    313\u001b[0m     \u001b[39mif\u001b[39;00m \u001b[39mself\u001b[39m\u001b[39m.\u001b[39mfallback \u001b[39mis\u001b[39;00m \u001b[39mNone\u001b[39;00m:\n",
      "File \u001b[0;32m~/Desktop/Buckeye-Budgeting/python_venv/lib/python3.12/site-packages/werkzeug/local.py:508\u001b[0m, in \u001b[0;36mLocalProxy.__init__.<locals>._get_current_object\u001b[0;34m()\u001b[0m\n\u001b[1;32m    506\u001b[0m     obj \u001b[39m=\u001b[39m local\u001b[39m.\u001b[39mget()\n\u001b[1;32m    507\u001b[0m \u001b[39mexcept\u001b[39;00m \u001b[39mLookupError\u001b[39;00m:\n\u001b[0;32m--> 508\u001b[0m     \u001b[39mraise\u001b[39;00m \u001b[39mRuntimeError\u001b[39;00m(unbound_message) \u001b[39mfrom\u001b[39;00m \u001b[39mNone\u001b[39;00m\n\u001b[1;32m    510\u001b[0m \u001b[39mreturn\u001b[39;00m get_name(obj)\n",
      "\u001b[0;31mRuntimeError\u001b[0m: Working outside of application context.\n\nThis typically means that you attempted to use functionality that needed\nthe current application. To solve this, set up an application context\nwith app.app_context(). See the documentation for more information."
     ]
    }
   ],
   "source": [
    "jsonify({\n",
    "    \"user\": \"cvo\",\n",
    "    \"assets\": 1992.12,\n",
    "    \"monthly_budget\": 200,\n",
    "    \"year\": 2023,\n",
    "    \"month\": 10,\n",
    "    \"envelopes\": [\n",
    "        {\n",
    "            \"id\": 1,\n",
    "            \"name\": \"Shopping\",\n",
    "            \"amount\": 50.0\n",
    "        }\n",
    "    ],\n",
    "    \"transactions\": [\n",
    "        {\n",
    "            \"id\": 1,\n",
    "            \"envelope_id\": 1,\n",
    "            \"datetime\": \"2023-09-28 09:28:00\",\n",
    "            \"name\": \"Walmart\",\n",
    "            \"amount\": 10.95\n",
    "        },\n",
    "        {\n",
    "            \"id\": 2,\n",
    "            \"envelope_id\": 1,\n",
    "            \"datetime\": \"2023-10-07 10:55:00\",\n",
    "            \"name\": \"IKEA\",\n",
    "            \"amount\": 69.69\n",
    "        },\n",
    "        {\n",
    "            \"id\": 3,\n",
    "            \"envelope_id\": 1,\n",
    "            \"datetime\": \"2023-10-28 12:31:00\",\n",
    "            \"name\": \"Target\",\n",
    "            \"amount\": 1.11\n",
    "        }\n",
    "    ],\n",
    "    \"income\": [\n",
    "        {\n",
    "            \"id\": 2,\n",
    "            \"datetime\": \"2023-10-07 10:55:00\",\n",
    "            \"amount\": 69.69\n",
    "        },\n",
    "        {\n",
    "            \"id\": 3,\n",
    "            \"datetime\": \"2023-10-28 12:31:00\",\n",
    "            \"amount\": 1001.11\n",
    "        }\n",
    "    ]\n",
    "})"
   ]
  },
  {
   "cell_type": "code",
   "execution_count": null,
   "metadata": {},
   "outputs": [],
   "source": []
  }
 ],
 "metadata": {
  "kernelspec": {
   "display_name": "python_venv",
   "language": "python",
   "name": "python3"
  },
  "language_info": {
   "codemirror_mode": {
    "name": "ipython",
    "version": 3
   },
   "file_extension": ".py",
   "mimetype": "text/x-python",
   "name": "python",
   "nbconvert_exporter": "python",
   "pygments_lexer": "ipython3",
   "version": "3.12.0"
  }
 },
 "nbformat": 4,
 "nbformat_minor": 2
}
